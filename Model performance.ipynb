{
 "cells": [
  {
   "cell_type": "markdown",
   "metadata": {},
   "source": [
    "1. Import libraries"
   ]
  },
  {
   "cell_type": "code",
   "execution_count": 1,
   "metadata": {},
   "outputs": [],
   "source": [
    "import pandas as pd\n",
    "import numpy as np\n",
    "import matplotlib.pyplot as plt\n",
    "import seaborn as sns\n",
    "import os\n",
    "from sklearn.utils import shuffle\n",
    "#sns.set(rc = {'figure.figsize':(16,9)})\n",
    "random_state = 12345\n",
    "from sklearn.model_selection import train_test_split\n",
    "from sksurv.ensemble import RandomSurvivalForest\n",
    "from sksurv.nonparametric import kaplan_meier_estimator\n",
    "from sksurv.ensemble import ComponentwiseGradientBoostingSurvivalAnalysis\n",
    "from sksurv.ensemble import GradientBoostingSurvivalAnalysis\n",
    "from lifelines import CoxPHFitter"
   ]
  },
  {
   "cell_type": "markdown",
   "metadata": {},
   "source": [
    "2. Import Datasets"
   ]
  },
  {
   "cell_type": "code",
   "execution_count": 2,
   "metadata": {},
   "outputs": [],
   "source": [
    "# Read train data from IDA_2024\n",
    "X_train = pd.read_csv(\"IDA_2024/train_operational_readouts.csv\")\n",
    "X_train_spec = pd.read_csv(\"IDA_2024/train_specifications.csv\")\n",
    "X_train_tte = pd.read_csv(\"IDA_2024/train_tte.csv\")"
   ]
  },
  {
   "cell_type": "markdown",
   "metadata": {},
   "source": [
    "Data Preprocessing"
   ]
  },
  {
   "cell_type": "code",
   "execution_count": 3,
   "metadata": {},
   "outputs": [
    {
     "name": "stderr",
     "output_type": "stream",
     "text": [
      "C:\\Users\\moka6903\\AppData\\Local\\Temp\\9\\ipykernel_6784\\1857747401.py:3: FutureWarning: Downcasting behavior in `replace` is deprecated and will be removed in a future version. To retain the old behavior, explicitly call `result.infer_objects(copy=False)`. To opt-in to the future behavior, set `pd.set_option('future.no_silent_downcasting', True)`\n",
      "  spec_encoded = spec_encoded.replace({False: 0, True: 1})\n"
     ]
    }
   ],
   "source": [
    "#Encoding Categorical data\n",
    "spec_encoded = pd.get_dummies(X_train_spec)\n",
    "spec_encoded = spec_encoded.replace({False: 0, True: 1}) \n",
    "categorical_col = spec_encoded.columns[1:]\n",
    "\n",
    "#numerical features\n",
    "numerical_col = X_train.columns[2:]"
   ]
  },
  {
   "cell_type": "markdown",
   "metadata": {},
   "source": [
    "Selecting last read out from operational dataset"
   ]
  },
  {
   "cell_type": "code",
   "execution_count": 4,
   "metadata": {},
   "outputs": [
    {
     "name": "stderr",
     "output_type": "stream",
     "text": [
      "C:\\Users\\moka6903\\AppData\\Local\\Temp\\9\\ipykernel_6784\\1431256340.py:2: FutureWarning: The provided callable <built-in function max> is currently using SeriesGroupBy.max. In a future version of pandas, the provided callable will be used directly. To keep current behavior pass the string \"max\" instead.\n",
      "  max_cycle = X_train.groupby(by=\"vehicle_id\")['time_step'].transform(max)\n"
     ]
    }
   ],
   "source": [
    "# Select maximum cycle\n",
    "max_cycle = X_train.groupby(by=\"vehicle_id\")['time_step'].transform(max)\n",
    "X_train_max_cycle = X_train[X_train[\"time_step\"] == max_cycle].reset_index()\n",
    "X_train_max_cycle.drop(columns='index', axis = 1, inplace= True)"
   ]
  },
  {
   "cell_type": "markdown",
   "metadata": {},
   "source": [
    "Merging all three train datasets"
   ]
  },
  {
   "cell_type": "code",
   "execution_count": 5,
   "metadata": {},
   "outputs": [
    {
     "data": {
      "text/plain": [
       "(23550, 199)"
      ]
     },
     "execution_count": 5,
     "metadata": {},
     "output_type": "execute_result"
    }
   ],
   "source": [
    "# merged Scania train dataset and lable dataset and spec dataset\n",
    "df_train = pd.merge(X_train_tte , X_train_max_cycle , left_on='vehicle_id', right_on='vehicle_id')\n",
    "dataset_merged=  pd.merge(df_train, spec_encoded , left_on='vehicle_id', right_on='vehicle_id')\n",
    "dataset_merged.shape"
   ]
  },
  {
   "cell_type": "markdown",
   "metadata": {},
   "source": [
    "Handeling missing Value by bfill"
   ]
  },
  {
   "cell_type": "code",
   "execution_count": 6,
   "metadata": {},
   "outputs": [
    {
     "name": "stdout",
     "output_type": "stream",
     "text": [
      "missing data in dataset: 11675\n"
     ]
    },
    {
     "data": {
      "text/plain": [
       "0"
      ]
     },
     "execution_count": 6,
     "metadata": {},
     "output_type": "execute_result"
    }
   ],
   "source": [
    "print('missing data in dataset:', dataset_merged.isna().sum().sum())\n",
    "dataset_ffil = dataset_merged.bfill(axis = 0)\n",
    "dataset_ffil.isna().sum().sum()"
   ]
  },
  {
   "cell_type": "markdown",
   "metadata": {},
   "source": [
    "Creating RUL ans Status columns, necessary for lable sataset in survival analysis"
   ]
  },
  {
   "cell_type": "code",
   "execution_count": 7,
   "metadata": {},
   "outputs": [
    {
     "name": "stdout",
     "output_type": "stream",
     "text": [
      "X_train value_counts status\n",
      "False    21278\n",
      "True      2272\n",
      "Name: count, dtype: int64\n",
      "Dataset Shape (23550, 201)\n"
     ]
    }
   ],
   "source": [
    "# Create status column\n",
    "dataset_ffil['status'] = dataset_ffil['in_study_repair'].apply(lambda x: False if x == 0 else True)\n",
    "# Distribution of each status\n",
    "print('X_train value_counts',dataset_ffil['status'].value_counts())\n",
    "#creating RUL column\n",
    "dataset_ffil['RUL'] = dataset_ffil['length_of_study_time_step'] - dataset_ffil['time_step']\n",
    "print('Dataset Shape', dataset_ffil.shape)"
   ]
  },
  {
   "cell_type": "markdown",
   "metadata": {},
   "source": [
    "Class distribution in time"
   ]
  },
  {
   "cell_type": "markdown",
   "metadata": {},
   "source": [
    "features with Correlation with RUL< 0.01 are identified and removed"
   ]
  },
  {
   "cell_type": "code",
   "execution_count": 8,
   "metadata": {},
   "outputs": [
    {
     "name": "stdout",
     "output_type": "stream",
     "text": [
      "Least correlated features:\n",
      "['Spec_2_Cat5', 'Spec_7_Cat8', 'Spec_6_Cat10', 'Spec_1_Cat12', 'Spec_1_Cat19', 'Spec_1_Cat16', 'Spec_6_Cat13', 'Spec_2_Cat4', 'Spec_2_Cat13', '291_0', 'Spec_1_Cat24', 'Spec_1_Cat6', 'Spec_3_Cat2', '158_0', 'Spec_1_Cat15', 'Spec_1_Cat18', 'Spec_6_Cat18', 'Spec_2_Cat11', 'Spec_2_Cat15', 'Spec_1_Cat3', '397_23', '397_11', '397_28', '291_7', '397_22', '397_10', '397_29', 'Spec_6_Cat6', '397_9', 'Spec_6_Cat8', 'Spec_2_Cat20', 'Spec_1_Cat25', '397_4', '397_16', 'Spec_1_Cat4', 'Spec_5_Cat2', '291_8', '397_15', '291_9', 'Spec_1_Cat9', '397_21', '291_6', '397_12', 'Spec_1_Cat27', '291_1', '397_17', '459_17', '291_10', '291_2', 'Spec_3_Cat0', 'Spec_0_Cat0', '397_2', 'Spec_2_Cat7', 'Spec_2_Cat12', 'Spec_2_Cat3', 'Spec_1_Cat10', 'Spec_1_Cat23', '397_14', '459_19', 'Spec_6_Cat15', 'Spec_2_Cat18', 'Spec_5_Cat1', '397_7', 'Spec_1_Cat22', '397_3', '397_6', 'Spec_0_Cat1', 'Spec_1_Cat7', 'Spec_2_Cat19', 'Spec_2_Cat6', 'Spec_1_Cat11', '397_19', 'Spec_5_Cat0', 'Spec_5_Cat3', '397_0', 'Spec_1_Cat28', 'Spec_2_Cat14', 'Spec_3_Cat3', 'Spec_3_Cat1', 'Spec_1_Cat21', 'Spec_7_Cat3', 'Spec_6_Cat12', 'Spec_2_Cat17', 'Spec_6_Cat0', 'Spec_1_Cat0', 'Spec_1_Cat8', 'Spec_1_Cat17', 'Spec_6_Cat5', 'Spec_1_Cat1', 'Spec_2_Cat16', 'Spec_6_Cat4', '397_30', 'Spec_6_Cat2'] 93\n"
     ]
    },
    {
     "data": {
      "text/plain": [
       "(23550, 108)"
      ]
     },
     "execution_count": 8,
     "metadata": {},
     "output_type": "execute_result"
    }
   ],
   "source": [
    "target_column = 'RUL'\n",
    "df = dataset_ffil[list(numerical_col) + list(categorical_col) + ['RUL']].copy()\n",
    "# Compute the correlation matrix\n",
    "correlation_matrix = df.corrwith(df[target_column]).abs()\n",
    "\n",
    "# Filter out correlations below the threshold\n",
    "threshold = 0.01\n",
    "filtered_correlations = correlation_matrix[correlation_matrix.abs() <= threshold]\n",
    "\n",
    "# Sort the remaining correlations in ascending order\n",
    "sorted_correlations = filtered_correlations.sort_values()\n",
    "least_correlated_features = sorted_correlations.index.tolist()\n",
    "# Print the least correlated features\n",
    "print(\"Least correlated features:\")\n",
    "print(least_correlated_features, len(least_correlated_features))\n",
    "\n",
    "dataset_droped_corr = dataset_ffil.drop(columns= least_correlated_features, inplace = False)\n",
    "dataset_droped_corr.shape"
   ]
  },
  {
   "cell_type": "markdown",
   "metadata": {},
   "source": [
    "Finding high correlation features"
   ]
  },
  {
   "cell_type": "code",
   "execution_count": 9,
   "metadata": {},
   "outputs": [
    {
     "name": "stdout",
     "output_type": "stream",
     "text": [
      "['158_4', '459_4', '459_10', 'Spec_4_Cat0', '459_3', '459_5', '158_6', '291_4', '459_6', '397_8', '167_5', '158_8', '459_11', '397_1', '167_1', '171_0', '427_0', '397_20', '835_0', '158_5', '459_7', '459_9', '459_8', '459_2']\n"
     ]
    }
   ],
   "source": [
    "\n",
    "df2 = dataset_droped_corr.drop(columns= ['length_of_study_time_step', 'time_step', 'in_study_repair', 'vehicle_id', 'status','RUL'], axis = 1)\n",
    "\n",
    "# Define the correlation threshold\n",
    "correlation_threshold = 0.90\n",
    "correlation_matrix = df2.corr().abs()\n",
    "# Get the upper triangle of the correlation matrix\n",
    "upper_triangle = np.triu(correlation_matrix, k=1)\n",
    "\n",
    "# Find the indices where the correlation exceeds the threshold\n",
    "high_correlation_indices = np.where(upper_triangle > correlation_threshold)\n",
    "\n",
    "# Initialize a list to store pairs of highly correlated variables\n",
    "high_correlation_pairs = []\n",
    "high_correlation_features = []\n",
    "high_correlation_features_all = []\n",
    "\n",
    "# Iterate through the indices and extract the variable pairs\n",
    "for i, j in zip(high_correlation_indices[0], high_correlation_indices[1]):\n",
    "    variable_i = correlation_matrix.index[i]\n",
    "    variable_j = correlation_matrix.columns[j]\n",
    "    correlation_value = correlation_matrix.iloc[i, j]\n",
    "    high_correlation_features.append(variable_i)\n",
    "    \n",
    "\n",
    "print( list(set(high_correlation_features)))"
   ]
  },
  {
   "cell_type": "markdown",
   "metadata": {},
   "source": [
    "Heatmap of feature correlations"
   ]
  },
  {
   "cell_type": "code",
   "execution_count": 10,
   "metadata": {},
   "outputs": [
    {
     "data": {
      "text/html": [
       "<div>\n",
       "<style scoped>\n",
       "    .dataframe tbody tr th:only-of-type {\n",
       "        vertical-align: middle;\n",
       "    }\n",
       "\n",
       "    .dataframe tbody tr th {\n",
       "        vertical-align: top;\n",
       "    }\n",
       "\n",
       "    .dataframe thead th {\n",
       "        text-align: right;\n",
       "    }\n",
       "</style>\n",
       "<table border=\"1\" class=\"dataframe\">\n",
       "  <thead>\n",
       "    <tr style=\"text-align: right;\">\n",
       "      <th></th>\n",
       "      <th>666_0</th>\n",
       "      <th>837_0</th>\n",
       "      <th>167_0</th>\n",
       "      <th>167_2</th>\n",
       "      <th>167_3</th>\n",
       "      <th>167_4</th>\n",
       "      <th>167_6</th>\n",
       "      <th>167_7</th>\n",
       "      <th>167_8</th>\n",
       "      <th>167_9</th>\n",
       "      <th>...</th>\n",
       "      <th>Spec_6_Cat9</th>\n",
       "      <th>Spec_7_Cat0</th>\n",
       "      <th>Spec_7_Cat1</th>\n",
       "      <th>Spec_7_Cat2</th>\n",
       "      <th>Spec_7_Cat4</th>\n",
       "      <th>Spec_7_Cat5</th>\n",
       "      <th>Spec_7_Cat6</th>\n",
       "      <th>Spec_7_Cat7</th>\n",
       "      <th>status</th>\n",
       "      <th>RUL</th>\n",
       "    </tr>\n",
       "  </thead>\n",
       "  <tbody>\n",
       "    <tr>\n",
       "      <th>0</th>\n",
       "      <td>372685.0</td>\n",
       "      <td>41670.0</td>\n",
       "      <td>10415.0</td>\n",
       "      <td>74655621.0</td>\n",
       "      <td>45991626.0</td>\n",
       "      <td>65888583.0</td>\n",
       "      <td>5813857.0</td>\n",
       "      <td>3351.0</td>\n",
       "      <td>0.0</td>\n",
       "      <td>0.0</td>\n",
       "      <td>...</td>\n",
       "      <td>0</td>\n",
       "      <td>1</td>\n",
       "      <td>0</td>\n",
       "      <td>0</td>\n",
       "      <td>0</td>\n",
       "      <td>0</td>\n",
       "      <td>0</td>\n",
       "      <td>0</td>\n",
       "      <td>False</td>\n",
       "      <td>2.6</td>\n",
       "    </tr>\n",
       "    <tr>\n",
       "      <th>1</th>\n",
       "      <td>289371.0</td>\n",
       "      <td>68717.0</td>\n",
       "      <td>10415.0</td>\n",
       "      <td>74655621.0</td>\n",
       "      <td>45991626.0</td>\n",
       "      <td>65888583.0</td>\n",
       "      <td>5813857.0</td>\n",
       "      <td>3351.0</td>\n",
       "      <td>0.0</td>\n",
       "      <td>0.0</td>\n",
       "      <td>...</td>\n",
       "      <td>0</td>\n",
       "      <td>0</td>\n",
       "      <td>1</td>\n",
       "      <td>0</td>\n",
       "      <td>0</td>\n",
       "      <td>0</td>\n",
       "      <td>0</td>\n",
       "      <td>0</td>\n",
       "      <td>False</td>\n",
       "      <td>0.8</td>\n",
       "    </tr>\n",
       "    <tr>\n",
       "      <th>2</th>\n",
       "      <td>230831.0</td>\n",
       "      <td>100121.0</td>\n",
       "      <td>5918.0</td>\n",
       "      <td>17004223.0</td>\n",
       "      <td>10504195.0</td>\n",
       "      <td>30792854.0</td>\n",
       "      <td>27370868.0</td>\n",
       "      <td>3819383.0</td>\n",
       "      <td>293456.0</td>\n",
       "      <td>101162.0</td>\n",
       "      <td>...</td>\n",
       "      <td>0</td>\n",
       "      <td>0</td>\n",
       "      <td>1</td>\n",
       "      <td>0</td>\n",
       "      <td>0</td>\n",
       "      <td>0</td>\n",
       "      <td>0</td>\n",
       "      <td>0</td>\n",
       "      <td>False</td>\n",
       "      <td>2.2</td>\n",
       "    </tr>\n",
       "    <tr>\n",
       "      <th>3</th>\n",
       "      <td>210381.0</td>\n",
       "      <td>152385.0</td>\n",
       "      <td>7128.0</td>\n",
       "      <td>13348382.0</td>\n",
       "      <td>11538870.0</td>\n",
       "      <td>30085352.0</td>\n",
       "      <td>53625651.0</td>\n",
       "      <td>1225967.0</td>\n",
       "      <td>7593.0</td>\n",
       "      <td>0.0</td>\n",
       "      <td>...</td>\n",
       "      <td>0</td>\n",
       "      <td>0</td>\n",
       "      <td>1</td>\n",
       "      <td>0</td>\n",
       "      <td>0</td>\n",
       "      <td>0</td>\n",
       "      <td>0</td>\n",
       "      <td>0</td>\n",
       "      <td>False</td>\n",
       "      <td>7.0</td>\n",
       "    </tr>\n",
       "    <tr>\n",
       "      <th>4</th>\n",
       "      <td>280531.0</td>\n",
       "      <td>164673.0</td>\n",
       "      <td>2688.0</td>\n",
       "      <td>13604867.0</td>\n",
       "      <td>14694395.0</td>\n",
       "      <td>41110339.0</td>\n",
       "      <td>15011017.0</td>\n",
       "      <td>689121.0</td>\n",
       "      <td>43760.0</td>\n",
       "      <td>13999.0</td>\n",
       "      <td>...</td>\n",
       "      <td>0</td>\n",
       "      <td>0</td>\n",
       "      <td>1</td>\n",
       "      <td>0</td>\n",
       "      <td>0</td>\n",
       "      <td>0</td>\n",
       "      <td>0</td>\n",
       "      <td>0</td>\n",
       "      <td>False</td>\n",
       "      <td>2.8</td>\n",
       "    </tr>\n",
       "    <tr>\n",
       "      <th>...</th>\n",
       "      <td>...</td>\n",
       "      <td>...</td>\n",
       "      <td>...</td>\n",
       "      <td>...</td>\n",
       "      <td>...</td>\n",
       "      <td>...</td>\n",
       "      <td>...</td>\n",
       "      <td>...</td>\n",
       "      <td>...</td>\n",
       "      <td>...</td>\n",
       "      <td>...</td>\n",
       "      <td>...</td>\n",
       "      <td>...</td>\n",
       "      <td>...</td>\n",
       "      <td>...</td>\n",
       "      <td>...</td>\n",
       "      <td>...</td>\n",
       "      <td>...</td>\n",
       "      <td>...</td>\n",
       "      <td>...</td>\n",
       "      <td>...</td>\n",
       "    </tr>\n",
       "    <tr>\n",
       "      <th>23545</th>\n",
       "      <td>75859.0</td>\n",
       "      <td>10040.0</td>\n",
       "      <td>6631.0</td>\n",
       "      <td>10519563.0</td>\n",
       "      <td>8797533.0</td>\n",
       "      <td>27117757.0</td>\n",
       "      <td>6053328.0</td>\n",
       "      <td>32612.0</td>\n",
       "      <td>0.0</td>\n",
       "      <td>0.0</td>\n",
       "      <td>...</td>\n",
       "      <td>0</td>\n",
       "      <td>0</td>\n",
       "      <td>0</td>\n",
       "      <td>0</td>\n",
       "      <td>1</td>\n",
       "      <td>0</td>\n",
       "      <td>0</td>\n",
       "      <td>0</td>\n",
       "      <td>False</td>\n",
       "      <td>24.8</td>\n",
       "    </tr>\n",
       "    <tr>\n",
       "      <th>23546</th>\n",
       "      <td>138179.0</td>\n",
       "      <td>35726.0</td>\n",
       "      <td>15397.0</td>\n",
       "      <td>11640261.0</td>\n",
       "      <td>7568543.0</td>\n",
       "      <td>19594203.0</td>\n",
       "      <td>48183109.0</td>\n",
       "      <td>1682930.0</td>\n",
       "      <td>52639.0</td>\n",
       "      <td>0.0</td>\n",
       "      <td>...</td>\n",
       "      <td>0</td>\n",
       "      <td>0</td>\n",
       "      <td>0</td>\n",
       "      <td>0</td>\n",
       "      <td>1</td>\n",
       "      <td>0</td>\n",
       "      <td>0</td>\n",
       "      <td>0</td>\n",
       "      <td>False</td>\n",
       "      <td>1.4</td>\n",
       "    </tr>\n",
       "    <tr>\n",
       "      <th>23547</th>\n",
       "      <td>118371.0</td>\n",
       "      <td>9122.0</td>\n",
       "      <td>6783.0</td>\n",
       "      <td>6551850.0</td>\n",
       "      <td>6232055.0</td>\n",
       "      <td>17999988.0</td>\n",
       "      <td>12452989.0</td>\n",
       "      <td>108785.0</td>\n",
       "      <td>0.0</td>\n",
       "      <td>0.0</td>\n",
       "      <td>...</td>\n",
       "      <td>0</td>\n",
       "      <td>0</td>\n",
       "      <td>0</td>\n",
       "      <td>0</td>\n",
       "      <td>1</td>\n",
       "      <td>0</td>\n",
       "      <td>0</td>\n",
       "      <td>0</td>\n",
       "      <td>False</td>\n",
       "      <td>7.0</td>\n",
       "    </tr>\n",
       "    <tr>\n",
       "      <th>23548</th>\n",
       "      <td>80078.0</td>\n",
       "      <td>11251.0</td>\n",
       "      <td>755.0</td>\n",
       "      <td>16152271.0</td>\n",
       "      <td>7956861.0</td>\n",
       "      <td>17692205.0</td>\n",
       "      <td>9509643.0</td>\n",
       "      <td>483602.0</td>\n",
       "      <td>2240.0</td>\n",
       "      <td>0.0</td>\n",
       "      <td>...</td>\n",
       "      <td>0</td>\n",
       "      <td>0</td>\n",
       "      <td>0</td>\n",
       "      <td>0</td>\n",
       "      <td>1</td>\n",
       "      <td>0</td>\n",
       "      <td>0</td>\n",
       "      <td>0</td>\n",
       "      <td>False</td>\n",
       "      <td>0.2</td>\n",
       "    </tr>\n",
       "    <tr>\n",
       "      <th>23549</th>\n",
       "      <td>52949.0</td>\n",
       "      <td>15222.0</td>\n",
       "      <td>843.0</td>\n",
       "      <td>16274631.0</td>\n",
       "      <td>8095988.0</td>\n",
       "      <td>20056805.0</td>\n",
       "      <td>13475823.0</td>\n",
       "      <td>1127331.0</td>\n",
       "      <td>84195.0</td>\n",
       "      <td>6380.0</td>\n",
       "      <td>...</td>\n",
       "      <td>0</td>\n",
       "      <td>0</td>\n",
       "      <td>0</td>\n",
       "      <td>0</td>\n",
       "      <td>1</td>\n",
       "      <td>0</td>\n",
       "      <td>0</td>\n",
       "      <td>0</td>\n",
       "      <td>False</td>\n",
       "      <td>4.4</td>\n",
       "    </tr>\n",
       "  </tbody>\n",
       "</table>\n",
       "<p>23550 rows × 80 columns</p>\n",
       "</div>"
      ],
      "text/plain": [
       "          666_0     837_0    167_0       167_2       167_3       167_4  \\\n",
       "0      372685.0   41670.0  10415.0  74655621.0  45991626.0  65888583.0   \n",
       "1      289371.0   68717.0  10415.0  74655621.0  45991626.0  65888583.0   \n",
       "2      230831.0  100121.0   5918.0  17004223.0  10504195.0  30792854.0   \n",
       "3      210381.0  152385.0   7128.0  13348382.0  11538870.0  30085352.0   \n",
       "4      280531.0  164673.0   2688.0  13604867.0  14694395.0  41110339.0   \n",
       "...         ...       ...      ...         ...         ...         ...   \n",
       "23545   75859.0   10040.0   6631.0  10519563.0   8797533.0  27117757.0   \n",
       "23546  138179.0   35726.0  15397.0  11640261.0   7568543.0  19594203.0   \n",
       "23547  118371.0    9122.0   6783.0   6551850.0   6232055.0  17999988.0   \n",
       "23548   80078.0   11251.0    755.0  16152271.0   7956861.0  17692205.0   \n",
       "23549   52949.0   15222.0    843.0  16274631.0   8095988.0  20056805.0   \n",
       "\n",
       "            167_6      167_7     167_8     167_9  ...  Spec_6_Cat9  \\\n",
       "0       5813857.0     3351.0       0.0       0.0  ...            0   \n",
       "1       5813857.0     3351.0       0.0       0.0  ...            0   \n",
       "2      27370868.0  3819383.0  293456.0  101162.0  ...            0   \n",
       "3      53625651.0  1225967.0    7593.0       0.0  ...            0   \n",
       "4      15011017.0   689121.0   43760.0   13999.0  ...            0   \n",
       "...           ...        ...       ...       ...  ...          ...   \n",
       "23545   6053328.0    32612.0       0.0       0.0  ...            0   \n",
       "23546  48183109.0  1682930.0   52639.0       0.0  ...            0   \n",
       "23547  12452989.0   108785.0       0.0       0.0  ...            0   \n",
       "23548   9509643.0   483602.0    2240.0       0.0  ...            0   \n",
       "23549  13475823.0  1127331.0   84195.0    6380.0  ...            0   \n",
       "\n",
       "       Spec_7_Cat0  Spec_7_Cat1  Spec_7_Cat2  Spec_7_Cat4  Spec_7_Cat5  \\\n",
       "0                1            0            0            0            0   \n",
       "1                0            1            0            0            0   \n",
       "2                0            1            0            0            0   \n",
       "3                0            1            0            0            0   \n",
       "4                0            1            0            0            0   \n",
       "...            ...          ...          ...          ...          ...   \n",
       "23545            0            0            0            1            0   \n",
       "23546            0            0            0            1            0   \n",
       "23547            0            0            0            1            0   \n",
       "23548            0            0            0            1            0   \n",
       "23549            0            0            0            1            0   \n",
       "\n",
       "       Spec_7_Cat6  Spec_7_Cat7  status   RUL  \n",
       "0                0            0   False   2.6  \n",
       "1                0            0   False   0.8  \n",
       "2                0            0   False   2.2  \n",
       "3                0            0   False   7.0  \n",
       "4                0            0   False   2.8  \n",
       "...            ...          ...     ...   ...  \n",
       "23545            0            0   False  24.8  \n",
       "23546            0            0   False   1.4  \n",
       "23547            0            0   False   7.0  \n",
       "23548            0            0   False   0.2  \n",
       "23549            0            0   False   4.4  \n",
       "\n",
       "[23550 rows x 80 columns]"
      ]
     },
     "execution_count": 10,
     "metadata": {},
     "output_type": "execute_result"
    }
   ],
   "source": [
    "main_data1 = dataset_droped_corr.drop(columns= list(set(high_correlation_features)))\n",
    "main_data =main_data1.drop(columns= ['length_of_study_time_step', 'time_step', 'in_study_repair', 'vehicle_id'], axis = 1)\n",
    "main_data"
   ]
  },
  {
   "cell_type": "markdown",
   "metadata": {},
   "source": [
    "Splitting data to 20/80"
   ]
  },
  {
   "cell_type": "code",
   "execution_count": 11,
   "metadata": {},
   "outputs": [],
   "source": [
    "x_train, x_test, y_train, y_test = train_test_split(shuffle(main_data), main_data['status'], test_size=0.2, random_state= random_state,\n",
    "                                                    stratify= main_data['status'])\n"
   ]
  },
  {
   "cell_type": "code",
   "execution_count": 12,
   "metadata": {},
   "outputs": [
    {
     "data": {
      "text/plain": [
       "(18840, 78)"
      ]
     },
     "execution_count": 12,
     "metadata": {},
     "output_type": "execute_result"
    }
   ],
   "source": [
    "# Preprocessing for target variable for train dataset\n",
    "\n",
    "train_y = list(x_train.loc[:, [\"status\", \"RUL\"]].itertuples(index = None, name = None))\n",
    "train_y = np.array(train_y, dtype=[('status', bool), ('RUL', float)])\n",
    "train_X = x_train.drop(columns= ['RUL','status'], axis = 1)\n",
    "train_X.shape"
   ]
  },
  {
   "cell_type": "code",
   "execution_count": 13,
   "metadata": {},
   "outputs": [
    {
     "data": {
      "text/plain": [
       "(4710, 78)"
      ]
     },
     "execution_count": 13,
     "metadata": {},
     "output_type": "execute_result"
    }
   ],
   "source": [
    "# Preprocessing for target variable for test dataset\n",
    "\n",
    "test_y = list(x_test.loc[:, [\"status\", \"RUL\"]].itertuples(index = None, name = None))\n",
    "test_y = np.array(test_y, dtype=[('status', bool), ('RUL', float)])\n",
    "test_X = x_test.drop(columns= ['RUL','status'], axis = 1)\n",
    "test_X.shape"
   ]
  },
  {
   "cell_type": "markdown",
   "metadata": {},
   "source": [
    "Gradient Boosting SA"
   ]
  },
  {
   "cell_type": "code",
   "execution_count": 39,
   "metadata": {},
   "outputs": [],
   "source": [
    "est_cph_tree = GradientBoostingSurvivalAnalysis(n_estimators=50,min_samples_split =30, min_samples_leaf =20,  learning_rate=0.5, max_depth=6, random_state=random_state)"
   ]
  },
  {
   "cell_type": "code",
   "execution_count": 40,
   "metadata": {},
   "outputs": [
    {
     "data": {
      "text/html": [
       "<style>#sk-container-id-1 {color: black;}#sk-container-id-1 pre{padding: 0;}#sk-container-id-1 div.sk-toggleable {background-color: white;}#sk-container-id-1 label.sk-toggleable__label {cursor: pointer;display: block;width: 100%;margin-bottom: 0;padding: 0.3em;box-sizing: border-box;text-align: center;}#sk-container-id-1 label.sk-toggleable__label-arrow:before {content: \"▸\";float: left;margin-right: 0.25em;color: #696969;}#sk-container-id-1 label.sk-toggleable__label-arrow:hover:before {color: black;}#sk-container-id-1 div.sk-estimator:hover label.sk-toggleable__label-arrow:before {color: black;}#sk-container-id-1 div.sk-toggleable__content {max-height: 0;max-width: 0;overflow: hidden;text-align: left;background-color: #f0f8ff;}#sk-container-id-1 div.sk-toggleable__content pre {margin: 0.2em;color: black;border-radius: 0.25em;background-color: #f0f8ff;}#sk-container-id-1 input.sk-toggleable__control:checked~div.sk-toggleable__content {max-height: 200px;max-width: 100%;overflow: auto;}#sk-container-id-1 input.sk-toggleable__control:checked~label.sk-toggleable__label-arrow:before {content: \"▾\";}#sk-container-id-1 div.sk-estimator input.sk-toggleable__control:checked~label.sk-toggleable__label {background-color: #d4ebff;}#sk-container-id-1 div.sk-label input.sk-toggleable__control:checked~label.sk-toggleable__label {background-color: #d4ebff;}#sk-container-id-1 input.sk-hidden--visually {border: 0;clip: rect(1px 1px 1px 1px);clip: rect(1px, 1px, 1px, 1px);height: 1px;margin: -1px;overflow: hidden;padding: 0;position: absolute;width: 1px;}#sk-container-id-1 div.sk-estimator {font-family: monospace;background-color: #f0f8ff;border: 1px dotted black;border-radius: 0.25em;box-sizing: border-box;margin-bottom: 0.5em;}#sk-container-id-1 div.sk-estimator:hover {background-color: #d4ebff;}#sk-container-id-1 div.sk-parallel-item::after {content: \"\";width: 100%;border-bottom: 1px solid gray;flex-grow: 1;}#sk-container-id-1 div.sk-label:hover label.sk-toggleable__label {background-color: #d4ebff;}#sk-container-id-1 div.sk-serial::before {content: \"\";position: absolute;border-left: 1px solid gray;box-sizing: border-box;top: 0;bottom: 0;left: 50%;z-index: 0;}#sk-container-id-1 div.sk-serial {display: flex;flex-direction: column;align-items: center;background-color: white;padding-right: 0.2em;padding-left: 0.2em;position: relative;}#sk-container-id-1 div.sk-item {position: relative;z-index: 1;}#sk-container-id-1 div.sk-parallel {display: flex;align-items: stretch;justify-content: center;background-color: white;position: relative;}#sk-container-id-1 div.sk-item::before, #sk-container-id-1 div.sk-parallel-item::before {content: \"\";position: absolute;border-left: 1px solid gray;box-sizing: border-box;top: 0;bottom: 0;left: 50%;z-index: -1;}#sk-container-id-1 div.sk-parallel-item {display: flex;flex-direction: column;z-index: 1;position: relative;background-color: white;}#sk-container-id-1 div.sk-parallel-item:first-child::after {align-self: flex-end;width: 50%;}#sk-container-id-1 div.sk-parallel-item:last-child::after {align-self: flex-start;width: 50%;}#sk-container-id-1 div.sk-parallel-item:only-child::after {width: 0;}#sk-container-id-1 div.sk-dashed-wrapped {border: 1px dashed gray;margin: 0 0.4em 0.5em 0.4em;box-sizing: border-box;padding-bottom: 0.4em;background-color: white;}#sk-container-id-1 div.sk-label label {font-family: monospace;font-weight: bold;display: inline-block;line-height: 1.2em;}#sk-container-id-1 div.sk-label-container {text-align: center;}#sk-container-id-1 div.sk-container {/* jupyter's `normalize.less` sets `[hidden] { display: none; }` but bootstrap.min.css set `[hidden] { display: none !important; }` so we also need the `!important` here to be able to override the default hidden behavior on the sphinx rendered scikit-learn.org. See: https://github.com/scikit-learn/scikit-learn/issues/21755 */display: inline-block !important;position: relative;}#sk-container-id-1 div.sk-text-repr-fallback {display: none;}</style><div id=\"sk-container-id-1\" class=\"sk-top-container\"><div class=\"sk-text-repr-fallback\"><pre>GradientBoostingSurvivalAnalysis(learning_rate=0.5, max_depth=6,\n",
       "                                 min_samples_leaf=20, min_samples_split=30,\n",
       "                                 n_estimators=50, random_state=12345)</pre><b>In a Jupyter environment, please rerun this cell to show the HTML representation or trust the notebook. <br />On GitHub, the HTML representation is unable to render, please try loading this page with nbviewer.org.</b></div><div class=\"sk-container\" hidden><div class=\"sk-item\"><div class=\"sk-estimator sk-toggleable\"><input class=\"sk-toggleable__control sk-hidden--visually\" id=\"sk-estimator-id-1\" type=\"checkbox\" checked><label for=\"sk-estimator-id-1\" class=\"sk-toggleable__label sk-toggleable__label-arrow\">GradientBoostingSurvivalAnalysis</label><div class=\"sk-toggleable__content\"><pre>GradientBoostingSurvivalAnalysis(learning_rate=0.5, max_depth=6,\n",
       "                                 min_samples_leaf=20, min_samples_split=30,\n",
       "                                 n_estimators=50, random_state=12345)</pre></div></div></div></div></div>"
      ],
      "text/plain": [
       "GradientBoostingSurvivalAnalysis(learning_rate=0.5, max_depth=6,\n",
       "                                 min_samples_leaf=20, min_samples_split=30,\n",
       "                                 n_estimators=50, random_state=12345)"
      ]
     },
     "execution_count": 40,
     "metadata": {},
     "output_type": "execute_result"
    }
   ],
   "source": [
    "est_cph_tree.fit(train_X, train_y)"
   ]
  },
  {
   "cell_type": "code",
   "execution_count": 41,
   "metadata": {},
   "outputs": [
    {
     "data": {
      "text/plain": [
       "0.716965608893513"
      ]
     },
     "execution_count": 41,
     "metadata": {},
     "output_type": "execute_result"
    }
   ],
   "source": [
    "est_cph_tree.score(test_X, test_y)"
   ]
  },
  {
   "cell_type": "code",
   "execution_count": 42,
   "metadata": {},
   "outputs": [
    {
     "data": {
      "text/plain": [
       "0.8378250394964338"
      ]
     },
     "execution_count": 42,
     "metadata": {},
     "output_type": "execute_result"
    }
   ],
   "source": [
    "est_cph_tree.score(train_X, train_y)"
   ]
  },
  {
   "cell_type": "markdown",
   "metadata": {},
   "source": [
    "RSF"
   ]
  },
  {
   "cell_type": "code",
   "execution_count": 14,
   "metadata": {},
   "outputs": [],
   "source": [
    "# Create a RandomSurvivalForest model\n",
    "rsf = RandomSurvivalForest(\n",
    "    n_estimators=200, max_depth= 30, max_features='log2',  min_samples_split=30, min_samples_leaf=10, n_jobs = -1, random_state=random_state\n",
    ")"
   ]
  },
  {
   "cell_type": "code",
   "execution_count": 15,
   "metadata": {},
   "outputs": [
    {
     "data": {
      "text/html": [
       "<style>#sk-container-id-1 {color: black;}#sk-container-id-1 pre{padding: 0;}#sk-container-id-1 div.sk-toggleable {background-color: white;}#sk-container-id-1 label.sk-toggleable__label {cursor: pointer;display: block;width: 100%;margin-bottom: 0;padding: 0.3em;box-sizing: border-box;text-align: center;}#sk-container-id-1 label.sk-toggleable__label-arrow:before {content: \"▸\";float: left;margin-right: 0.25em;color: #696969;}#sk-container-id-1 label.sk-toggleable__label-arrow:hover:before {color: black;}#sk-container-id-1 div.sk-estimator:hover label.sk-toggleable__label-arrow:before {color: black;}#sk-container-id-1 div.sk-toggleable__content {max-height: 0;max-width: 0;overflow: hidden;text-align: left;background-color: #f0f8ff;}#sk-container-id-1 div.sk-toggleable__content pre {margin: 0.2em;color: black;border-radius: 0.25em;background-color: #f0f8ff;}#sk-container-id-1 input.sk-toggleable__control:checked~div.sk-toggleable__content {max-height: 200px;max-width: 100%;overflow: auto;}#sk-container-id-1 input.sk-toggleable__control:checked~label.sk-toggleable__label-arrow:before {content: \"▾\";}#sk-container-id-1 div.sk-estimator input.sk-toggleable__control:checked~label.sk-toggleable__label {background-color: #d4ebff;}#sk-container-id-1 div.sk-label input.sk-toggleable__control:checked~label.sk-toggleable__label {background-color: #d4ebff;}#sk-container-id-1 input.sk-hidden--visually {border: 0;clip: rect(1px 1px 1px 1px);clip: rect(1px, 1px, 1px, 1px);height: 1px;margin: -1px;overflow: hidden;padding: 0;position: absolute;width: 1px;}#sk-container-id-1 div.sk-estimator {font-family: monospace;background-color: #f0f8ff;border: 1px dotted black;border-radius: 0.25em;box-sizing: border-box;margin-bottom: 0.5em;}#sk-container-id-1 div.sk-estimator:hover {background-color: #d4ebff;}#sk-container-id-1 div.sk-parallel-item::after {content: \"\";width: 100%;border-bottom: 1px solid gray;flex-grow: 1;}#sk-container-id-1 div.sk-label:hover label.sk-toggleable__label {background-color: #d4ebff;}#sk-container-id-1 div.sk-serial::before {content: \"\";position: absolute;border-left: 1px solid gray;box-sizing: border-box;top: 0;bottom: 0;left: 50%;z-index: 0;}#sk-container-id-1 div.sk-serial {display: flex;flex-direction: column;align-items: center;background-color: white;padding-right: 0.2em;padding-left: 0.2em;position: relative;}#sk-container-id-1 div.sk-item {position: relative;z-index: 1;}#sk-container-id-1 div.sk-parallel {display: flex;align-items: stretch;justify-content: center;background-color: white;position: relative;}#sk-container-id-1 div.sk-item::before, #sk-container-id-1 div.sk-parallel-item::before {content: \"\";position: absolute;border-left: 1px solid gray;box-sizing: border-box;top: 0;bottom: 0;left: 50%;z-index: -1;}#sk-container-id-1 div.sk-parallel-item {display: flex;flex-direction: column;z-index: 1;position: relative;background-color: white;}#sk-container-id-1 div.sk-parallel-item:first-child::after {align-self: flex-end;width: 50%;}#sk-container-id-1 div.sk-parallel-item:last-child::after {align-self: flex-start;width: 50%;}#sk-container-id-1 div.sk-parallel-item:only-child::after {width: 0;}#sk-container-id-1 div.sk-dashed-wrapped {border: 1px dashed gray;margin: 0 0.4em 0.5em 0.4em;box-sizing: border-box;padding-bottom: 0.4em;background-color: white;}#sk-container-id-1 div.sk-label label {font-family: monospace;font-weight: bold;display: inline-block;line-height: 1.2em;}#sk-container-id-1 div.sk-label-container {text-align: center;}#sk-container-id-1 div.sk-container {/* jupyter's `normalize.less` sets `[hidden] { display: none; }` but bootstrap.min.css set `[hidden] { display: none !important; }` so we also need the `!important` here to be able to override the default hidden behavior on the sphinx rendered scikit-learn.org. See: https://github.com/scikit-learn/scikit-learn/issues/21755 */display: inline-block !important;position: relative;}#sk-container-id-1 div.sk-text-repr-fallback {display: none;}</style><div id=\"sk-container-id-1\" class=\"sk-top-container\"><div class=\"sk-text-repr-fallback\"><pre>RandomSurvivalForest(max_depth=30, max_features=&#x27;log2&#x27;, min_samples_leaf=10,\n",
       "                     min_samples_split=30, n_estimators=200, n_jobs=-1,\n",
       "                     random_state=12345)</pre><b>In a Jupyter environment, please rerun this cell to show the HTML representation or trust the notebook. <br />On GitHub, the HTML representation is unable to render, please try loading this page with nbviewer.org.</b></div><div class=\"sk-container\" hidden><div class=\"sk-item\"><div class=\"sk-estimator sk-toggleable\"><input class=\"sk-toggleable__control sk-hidden--visually\" id=\"sk-estimator-id-1\" type=\"checkbox\" checked><label for=\"sk-estimator-id-1\" class=\"sk-toggleable__label sk-toggleable__label-arrow\">RandomSurvivalForest</label><div class=\"sk-toggleable__content\"><pre>RandomSurvivalForest(max_depth=30, max_features=&#x27;log2&#x27;, min_samples_leaf=10,\n",
       "                     min_samples_split=30, n_estimators=200, n_jobs=-1,\n",
       "                     random_state=12345)</pre></div></div></div></div></div>"
      ],
      "text/plain": [
       "RandomSurvivalForest(max_depth=30, max_features='log2', min_samples_leaf=10,\n",
       "                     min_samples_split=30, n_estimators=200, n_jobs=-1,\n",
       "                     random_state=12345)"
      ]
     },
     "execution_count": 15,
     "metadata": {},
     "output_type": "execute_result"
    }
   ],
   "source": [
    "rsf.fit(train_X, train_y)"
   ]
  },
  {
   "cell_type": "code",
   "execution_count": 44,
   "metadata": {},
   "outputs": [
    {
     "data": {
      "text/plain": [
       "0.7195483298433668"
      ]
     },
     "execution_count": 44,
     "metadata": {},
     "output_type": "execute_result"
    }
   ],
   "source": [
    "rsf.fit(train_X, train_y)\n",
    "#c-index evaluation metric\n",
    "rsf.score(test_X, test_y)"
   ]
  },
  {
   "cell_type": "code",
   "execution_count": 48,
   "metadata": {},
   "outputs": [
    {
     "data": {
      "text/plain": [
       "0.943777222061914"
      ]
     },
     "execution_count": 48,
     "metadata": {},
     "output_type": "execute_result"
    }
   ],
   "source": [
    "rsf.score(train_X, train_y)"
   ]
  },
  {
   "cell_type": "markdown",
   "metadata": {},
   "source": [
    "COX"
   ]
  },
  {
   "cell_type": "code",
   "execution_count": 45,
   "metadata": {},
   "outputs": [
    {
     "name": "stderr",
     "output_type": "stream",
     "text": [
      "\\\\GOOFY2\\HT21\\moka6903\\Desktop\\Code\\venv\\venv\\Lib\\site-packages\\sksurv\\linear_model\\coxph.py:449: LinAlgWarning: Ill-conditioned matrix (rcond=3.1534e-21): result may not be accurate.\n",
      "  delta = solve(\n",
      "\\\\GOOFY2\\HT21\\moka6903\\Desktop\\Code\\venv\\venv\\Lib\\site-packages\\sksurv\\linear_model\\coxph.py:449: LinAlgWarning: Ill-conditioned matrix (rcond=9.13853e-22): result may not be accurate.\n",
      "  delta = solve(\n",
      "\\\\GOOFY2\\HT21\\moka6903\\Desktop\\Code\\venv\\venv\\Lib\\site-packages\\sksurv\\linear_model\\coxph.py:449: LinAlgWarning: Ill-conditioned matrix (rcond=1.78378e-21): result may not be accurate.\n",
      "  delta = solve(\n",
      "\\\\GOOFY2\\HT21\\moka6903\\Desktop\\Code\\venv\\venv\\Lib\\site-packages\\sksurv\\linear_model\\coxph.py:449: LinAlgWarning: Ill-conditioned matrix (rcond=5.8676e-22): result may not be accurate.\n",
      "  delta = solve(\n",
      "\\\\GOOFY2\\HT21\\moka6903\\Desktop\\Code\\venv\\venv\\Lib\\site-packages\\sksurv\\linear_model\\coxph.py:449: LinAlgWarning: Ill-conditioned matrix (rcond=2.16762e-22): result may not be accurate.\n",
      "  delta = solve(\n",
      "\\\\GOOFY2\\HT21\\moka6903\\Desktop\\Code\\venv\\venv\\Lib\\site-packages\\sksurv\\linear_model\\coxph.py:449: LinAlgWarning: Ill-conditioned matrix (rcond=7.94857e-23): result may not be accurate.\n",
      "  delta = solve(\n",
      "\\\\GOOFY2\\HT21\\moka6903\\Desktop\\Code\\venv\\venv\\Lib\\site-packages\\sksurv\\linear_model\\coxph.py:449: LinAlgWarning: Ill-conditioned matrix (rcond=2.91877e-23): result may not be accurate.\n",
      "  delta = solve(\n",
      "\\\\GOOFY2\\HT21\\moka6903\\Desktop\\Code\\venv\\venv\\Lib\\site-packages\\sksurv\\linear_model\\coxph.py:449: LinAlgWarning: Ill-conditioned matrix (rcond=1.07484e-23): result may not be accurate.\n",
      "  delta = solve(\n",
      "\\\\GOOFY2\\HT21\\moka6903\\Desktop\\Code\\venv\\venv\\Lib\\site-packages\\sksurv\\linear_model\\coxph.py:449: LinAlgWarning: Ill-conditioned matrix (rcond=3.95512e-24): result may not be accurate.\n",
      "  delta = solve(\n",
      "\\\\GOOFY2\\HT21\\moka6903\\Desktop\\Code\\venv\\venv\\Lib\\site-packages\\sksurv\\linear_model\\coxph.py:449: LinAlgWarning: Ill-conditioned matrix (rcond=1.45517e-24): result may not be accurate.\n",
      "  delta = solve(\n",
      "\\\\GOOFY2\\HT21\\moka6903\\Desktop\\Code\\venv\\venv\\Lib\\site-packages\\sksurv\\linear_model\\coxph.py:449: LinAlgWarning: Ill-conditioned matrix (rcond=5.35349e-25): result may not be accurate.\n",
      "  delta = solve(\n",
      "\\\\GOOFY2\\HT21\\moka6903\\Desktop\\Code\\venv\\venv\\Lib\\site-packages\\sksurv\\linear_model\\coxph.py:449: LinAlgWarning: Ill-conditioned matrix (rcond=1.96947e-25): result may not be accurate.\n",
      "  delta = solve(\n",
      "\\\\GOOFY2\\HT21\\moka6903\\Desktop\\Code\\venv\\venv\\Lib\\site-packages\\sksurv\\linear_model\\coxph.py:449: LinAlgWarning: Ill-conditioned matrix (rcond=7.24532e-26): result may not be accurate.\n",
      "  delta = solve(\n",
      "\\\\GOOFY2\\HT21\\moka6903\\Desktop\\Code\\venv\\venv\\Lib\\site-packages\\sksurv\\linear_model\\coxph.py:449: LinAlgWarning: Ill-conditioned matrix (rcond=2.66541e-26): result may not be accurate.\n",
      "  delta = solve(\n",
      "\\\\GOOFY2\\HT21\\moka6903\\Desktop\\Code\\venv\\venv\\Lib\\site-packages\\sksurv\\linear_model\\coxph.py:449: LinAlgWarning: Ill-conditioned matrix (rcond=9.8055e-27): result may not be accurate.\n",
      "  delta = solve(\n"
     ]
    },
    {
     "data": {
      "text/html": [
       "<style>#sk-container-id-2 {color: black;}#sk-container-id-2 pre{padding: 0;}#sk-container-id-2 div.sk-toggleable {background-color: white;}#sk-container-id-2 label.sk-toggleable__label {cursor: pointer;display: block;width: 100%;margin-bottom: 0;padding: 0.3em;box-sizing: border-box;text-align: center;}#sk-container-id-2 label.sk-toggleable__label-arrow:before {content: \"▸\";float: left;margin-right: 0.25em;color: #696969;}#sk-container-id-2 label.sk-toggleable__label-arrow:hover:before {color: black;}#sk-container-id-2 div.sk-estimator:hover label.sk-toggleable__label-arrow:before {color: black;}#sk-container-id-2 div.sk-toggleable__content {max-height: 0;max-width: 0;overflow: hidden;text-align: left;background-color: #f0f8ff;}#sk-container-id-2 div.sk-toggleable__content pre {margin: 0.2em;color: black;border-radius: 0.25em;background-color: #f0f8ff;}#sk-container-id-2 input.sk-toggleable__control:checked~div.sk-toggleable__content {max-height: 200px;max-width: 100%;overflow: auto;}#sk-container-id-2 input.sk-toggleable__control:checked~label.sk-toggleable__label-arrow:before {content: \"▾\";}#sk-container-id-2 div.sk-estimator input.sk-toggleable__control:checked~label.sk-toggleable__label {background-color: #d4ebff;}#sk-container-id-2 div.sk-label input.sk-toggleable__control:checked~label.sk-toggleable__label {background-color: #d4ebff;}#sk-container-id-2 input.sk-hidden--visually {border: 0;clip: rect(1px 1px 1px 1px);clip: rect(1px, 1px, 1px, 1px);height: 1px;margin: -1px;overflow: hidden;padding: 0;position: absolute;width: 1px;}#sk-container-id-2 div.sk-estimator {font-family: monospace;background-color: #f0f8ff;border: 1px dotted black;border-radius: 0.25em;box-sizing: border-box;margin-bottom: 0.5em;}#sk-container-id-2 div.sk-estimator:hover {background-color: #d4ebff;}#sk-container-id-2 div.sk-parallel-item::after {content: \"\";width: 100%;border-bottom: 1px solid gray;flex-grow: 1;}#sk-container-id-2 div.sk-label:hover label.sk-toggleable__label {background-color: #d4ebff;}#sk-container-id-2 div.sk-serial::before {content: \"\";position: absolute;border-left: 1px solid gray;box-sizing: border-box;top: 0;bottom: 0;left: 50%;z-index: 0;}#sk-container-id-2 div.sk-serial {display: flex;flex-direction: column;align-items: center;background-color: white;padding-right: 0.2em;padding-left: 0.2em;position: relative;}#sk-container-id-2 div.sk-item {position: relative;z-index: 1;}#sk-container-id-2 div.sk-parallel {display: flex;align-items: stretch;justify-content: center;background-color: white;position: relative;}#sk-container-id-2 div.sk-item::before, #sk-container-id-2 div.sk-parallel-item::before {content: \"\";position: absolute;border-left: 1px solid gray;box-sizing: border-box;top: 0;bottom: 0;left: 50%;z-index: -1;}#sk-container-id-2 div.sk-parallel-item {display: flex;flex-direction: column;z-index: 1;position: relative;background-color: white;}#sk-container-id-2 div.sk-parallel-item:first-child::after {align-self: flex-end;width: 50%;}#sk-container-id-2 div.sk-parallel-item:last-child::after {align-self: flex-start;width: 50%;}#sk-container-id-2 div.sk-parallel-item:only-child::after {width: 0;}#sk-container-id-2 div.sk-dashed-wrapped {border: 1px dashed gray;margin: 0 0.4em 0.5em 0.4em;box-sizing: border-box;padding-bottom: 0.4em;background-color: white;}#sk-container-id-2 div.sk-label label {font-family: monospace;font-weight: bold;display: inline-block;line-height: 1.2em;}#sk-container-id-2 div.sk-label-container {text-align: center;}#sk-container-id-2 div.sk-container {/* jupyter's `normalize.less` sets `[hidden] { display: none; }` but bootstrap.min.css set `[hidden] { display: none !important; }` so we also need the `!important` here to be able to override the default hidden behavior on the sphinx rendered scikit-learn.org. See: https://github.com/scikit-learn/scikit-learn/issues/21755 */display: inline-block !important;position: relative;}#sk-container-id-2 div.sk-text-repr-fallback {display: none;}</style><div id=\"sk-container-id-2\" class=\"sk-top-container\"><div class=\"sk-text-repr-fallback\"><pre>CoxPHSurvivalAnalysis()</pre><b>In a Jupyter environment, please rerun this cell to show the HTML representation or trust the notebook. <br />On GitHub, the HTML representation is unable to render, please try loading this page with nbviewer.org.</b></div><div class=\"sk-container\" hidden><div class=\"sk-item\"><div class=\"sk-estimator sk-toggleable\"><input class=\"sk-toggleable__control sk-hidden--visually\" id=\"sk-estimator-id-2\" type=\"checkbox\" checked><label for=\"sk-estimator-id-2\" class=\"sk-toggleable__label sk-toggleable__label-arrow\">CoxPHSurvivalAnalysis</label><div class=\"sk-toggleable__content\"><pre>CoxPHSurvivalAnalysis()</pre></div></div></div></div></div>"
      ],
      "text/plain": [
       "CoxPHSurvivalAnalysis()"
      ]
     },
     "execution_count": 45,
     "metadata": {},
     "output_type": "execute_result"
    }
   ],
   "source": [
    "from sksurv.linear_model import CoxPHSurvivalAnalysis\n",
    "estimator = CoxPHSurvivalAnalysis()\n",
    "estimator.fit(train_X, train_y)"
   ]
  },
  {
   "cell_type": "code",
   "execution_count": 46,
   "metadata": {},
   "outputs": [
    {
     "data": {
      "text/plain": [
       "0.6875948083287068"
      ]
     },
     "execution_count": 46,
     "metadata": {},
     "output_type": "execute_result"
    }
   ],
   "source": [
    "estimator.score(test_X, test_y)"
   ]
  },
  {
   "cell_type": "code",
   "execution_count": 47,
   "metadata": {},
   "outputs": [
    {
     "data": {
      "text/plain": [
       "0.671009473650339"
      ]
     },
     "execution_count": 47,
     "metadata": {},
     "output_type": "execute_result"
    }
   ],
   "source": [
    "estimator.score(train_X, train_y)"
   ]
  },
  {
   "cell_type": "markdown",
   "metadata": {},
   "source": [
    "Comparing CPH to Permutation Importance analysis"
   ]
  },
  {
   "cell_type": "code",
   "execution_count": 49,
   "metadata": {},
   "outputs": [
    {
     "name": "stdout",
     "output_type": "stream",
     "text": [
      "        Variable   Coefficient\n",
      "0          666_0 -1.700000e-07\n",
      "1          837_0 -1.100000e-06\n",
      "2          167_0 -2.100000e-06\n",
      "3          167_2  2.000000e-08\n",
      "4          167_3 -1.000000e-08\n",
      "5          167_4 -0.000000e+00\n",
      "6          167_6  0.000000e+00\n",
      "7          167_7 -5.000000e-08\n",
      "8          167_8  1.100000e-07\n",
      "9          167_9 -6.000000e-08\n",
      "10         309_0 -6.000000e-07\n",
      "11         272_0 -4.000000e-08\n",
      "12         272_1 -4.000000e-08\n",
      "13         272_2 -0.000000e+00\n",
      "14         272_3 -0.000000e+00\n",
      "15         272_4 -0.000000e+00\n",
      "16         272_5  0.000000e+00\n",
      "17         272_6  2.000000e-07\n",
      "18         272_7 -1.320000e-06\n",
      "19         272_8  6.270000e-06\n",
      "20         272_9 -1.243000e-05\n",
      "21         370_0  0.000000e+00\n",
      "22         291_3 -5.910000e-06\n",
      "23         291_5 -2.663000e-05\n",
      "24         158_1  1.000000e-08\n",
      "25         158_2  0.000000e+00\n",
      "26         158_3  1.000000e-08\n",
      "27         158_7 -6.000000e-08\n",
      "28         158_9  0.000000e+00\n",
      "29         100_0  1.000000e-08\n",
      "30         459_0 -2.682000e-05\n",
      "31         459_1  6.227000e-05\n",
      "32        459_12  9.050000e-06\n",
      "33        459_13 -2.210000e-06\n",
      "34        459_14 -3.360000e-06\n",
      "35        459_15  2.000000e-06\n",
      "36        459_16  4.100000e-07\n",
      "37        459_18 -3.215540e-03\n",
      "38         397_5  1.700000e-07\n",
      "39        397_13 -4.000000e-08\n",
      "40        397_18  9.000000e-08\n",
      "41        397_24 -4.100000e-07\n",
      "42        397_25  1.900000e-07\n",
      "43        397_26  1.000000e-07\n",
      "44        397_27  2.600000e-07\n",
      "45        397_31 -3.000000e-08\n",
      "46        397_32  8.000000e-08\n",
      "47        397_33  1.500000e-07\n",
      "48        397_34  1.100000e-07\n",
      "49        397_35  3.940000e-06\n",
      "50   Spec_0_Cat2 -1.232717e+01\n",
      "51  Spec_1_Cat13  2.307164e-01\n",
      "52  Spec_1_Cat14 -5.961058e-01\n",
      "53   Spec_1_Cat2  1.525377e-02\n",
      "54  Spec_1_Cat20 -3.055204e-01\n",
      "55  Spec_1_Cat26 -1.242925e+01\n",
      "56   Spec_1_Cat5  1.177335e-01\n",
      "57   Spec_2_Cat0 -3.031204e-01\n",
      "58   Spec_2_Cat1  9.641894e-02\n",
      "59  Spec_2_Cat10 -1.504361e-01\n",
      "60   Spec_2_Cat2 -9.352027e-02\n",
      "61   Spec_2_Cat8  3.140146e-01\n",
      "62   Spec_2_Cat9  1.364965e-01\n",
      "63   Spec_4_Cat1  1.447138e-01\n",
      "64   Spec_5_Cat4 -4.417157e-01\n",
      "65   Spec_6_Cat1 -2.789369e-02\n",
      "66  Spec_6_Cat11 -3.317673e-02\n",
      "67  Spec_6_Cat17 -1.218415e+01\n",
      "68   Spec_6_Cat3  1.640312e-01\n",
      "69   Spec_6_Cat7 -1.252710e+00\n",
      "70   Spec_6_Cat9  1.298518e+01\n",
      "71   Spec_7_Cat0  9.334679e-01\n",
      "72   Spec_7_Cat1  1.381634e+00\n",
      "73   Spec_7_Cat2  6.114430e-01\n",
      "74   Spec_7_Cat4  7.588425e-01\n",
      "75   Spec_7_Cat5 -2.098566e-01\n",
      "76   Spec_7_Cat6  1.516515e+00\n",
      "77   Spec_7_Cat7  9.979545e-01\n"
     ]
    },
    {
     "data": {
      "image/png": "[encoded data removed]",
      "text/plain": [
       "<Figure size 800x1600 with 1 Axes>"
      ]
     },
     "metadata": {},
     "output_type": "display_data"
    }
   ],
   "source": [
    "feature_importance = estimator.coef_.round(8)\n",
    "\n",
    "coef_df = pd.DataFrame({\"Variable\": test_X.columns, \"Coefficient\": feature_importance})\n",
    "pd.set_option(\"display.max_rows\", None)\n",
    "pd.set_option(\"display.max_columns\", None)\n",
    "\n",
    "print(coef_df)\n",
    "# Plot the coefficients\n",
    "plt.figure(figsize=(8, 16))\n",
    "plt.barh(coef_df['Variable'], coef_df['Coefficient'], color='skyblue')\n",
    "plt.xlabel('Coefficient Value')\n",
    "plt.ylabel('Feature')\n",
    "plt.title('Feature Coefficients')\n",
    "plt.grid(axis='x')\n",
    "plt.show()"
   ]
  },
  {
   "cell_type": "code",
   "execution_count": 16,
   "metadata": {},
   "outputs": [],
   "source": [
    "from sklearn.inspection import permutation_importance\n",
    "\n",
    "result = permutation_importance(rsf, test_X, test_y, n_repeats=10, random_state=random_state)\n",
    "# Get the feature importances\n",
    "importances = result.importances_mean\n",
    "\n",
    "# Get the indices of the top 30 features with the highest absolute importances\n",
    "top_indices = importances.argsort()[-60:][::-1]\n",
    "\n",
    "# Get the corresponding feature names\n",
    "top_features = test_X.columns[top_indices]\n",
    "\n",
    "# Get the corresponding importances\n",
    "top_importances = importances[top_indices]\n",
    "\n",
    "# Create a bar plot\n",
    "plt.figure(figsize=(12, 8))\n",
    "plt.bar(top_features, top_importances)\n",
    "plt.title('Top 60 Features by Permutation Importance')\n",
    "plt.xlabel('Feature')\n",
    "plt.ylabel('Mean Permutation Importance')\n",
    "plt.xticks(rotation=90)\n",
    "plt.show()"
   ]
  },
  {
   "cell_type": "code",
   "execution_count": null,
   "metadata": {},
   "outputs": [],
   "source": []
  }
 ],
 "metadata": {
  "kernelspec": {
   "display_name": "venv",
   "language": "python",
   "name": "python3"
  },
  "language_info": {
   "codemirror_mode": {
    "name": "ipython",
    "version": 3
   },
   "file_extension": ".py",
   "mimetype": "text/x-python",
   "name": "python",
   "nbconvert_exporter": "python",
   "pygments_lexer": "ipython3",
   "version": "3.11.5"
  }
 },
 "nbformat": 4,
 "nbformat_minor": 2
}
